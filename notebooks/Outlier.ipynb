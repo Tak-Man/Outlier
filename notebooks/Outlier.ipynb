{
 "cells": [
  {
   "cell_type": "code",
   "execution_count": 1,
   "id": "86cd6f08-99f5-4125-aeda-d0b6f9985b5f",
   "metadata": {},
   "outputs": [
    {
     "ename": "ImportError",
     "evalue": "cannot import name '_print_elapsed_time' from 'sklearn.utils' (X:\\__Anaconda3__\\envs\\OutlierEnv\\lib\\site-packages\\sklearn\\utils\\__init__.py)",
     "output_type": "error",
     "traceback": [
      "\u001b[1;31m---------------------------------------------------------------------------\u001b[0m",
      "\u001b[1;31mImportError\u001b[0m                               Traceback (most recent call last)",
      "Cell \u001b[1;32mIn[1], line 3\u001b[0m\n\u001b[0;32m      1\u001b[0m \u001b[38;5;28;01mimport\u001b[39;00m \u001b[38;5;21;01msys\u001b[39;00m\n\u001b[0;32m      2\u001b[0m sys\u001b[38;5;241m.\u001b[39mpath\u001b[38;5;241m.\u001b[39minsert(\u001b[38;5;241m1\u001b[39m, \u001b[38;5;124m\"\u001b[39m\u001b[38;5;124m../\u001b[39m\u001b[38;5;124m\"\u001b[39m)\n\u001b[1;32m----> 3\u001b[0m \u001b[38;5;28;01mimport\u001b[39;00m \u001b[38;5;21;01mutilities\u001b[39;00m \u001b[38;5;28;01mas\u001b[39;00m \u001b[38;5;21;01mutils\u001b[39;00m\n\u001b[0;32m      5\u001b[0m \u001b[38;5;28;01mfrom\u001b[39;00m \u001b[38;5;21;01mdatetime\u001b[39;00m \u001b[38;5;28;01mimport\u001b[39;00m datetime\n\u001b[0;32m      6\u001b[0m \u001b[38;5;28;01mimport\u001b[39;00m \u001b[38;5;21;01mpandas\u001b[39;00m \u001b[38;5;28;01mas\u001b[39;00m \u001b[38;5;21;01mpd\u001b[39;00m\n",
      "File \u001b[1;32mX:\\Outlier\\notebooks\\..\\utilities.py:4\u001b[0m\n\u001b[0;32m      2\u001b[0m \u001b[38;5;28;01mimport\u001b[39;00m \u001b[38;5;21;01mnumpy\u001b[39;00m \u001b[38;5;28;01mas\u001b[39;00m \u001b[38;5;21;01mnp\u001b[39;00m\n\u001b[0;32m      3\u001b[0m \u001b[38;5;28;01mfrom\u001b[39;00m \u001b[38;5;21;01msklearn\u001b[39;00m\u001b[38;5;21;01m.\u001b[39;00m\u001b[38;5;21;01mtree\u001b[39;00m \u001b[38;5;28;01mimport\u001b[39;00m _tree\n\u001b[1;32m----> 4\u001b[0m \u001b[38;5;28;01mimport\u001b[39;00m \u001b[38;5;21;01mpycaret\u001b[39;00m\u001b[38;5;21;01m.\u001b[39;00m\u001b[38;5;21;01manomaly\u001b[39;00m \u001b[38;5;28;01mas\u001b[39;00m \u001b[38;5;21;01mpy_caret_anom\u001b[39;00m\n\u001b[0;32m      5\u001b[0m \u001b[38;5;28;01mimport\u001b[39;00m \u001b[38;5;21;01mumap\u001b[39;00m\n\u001b[0;32m      6\u001b[0m \u001b[38;5;28;01mimport\u001b[39;00m \u001b[38;5;21;01maltair\u001b[39;00m \u001b[38;5;28;01mas\u001b[39;00m \u001b[38;5;21;01malt\u001b[39;00m\n",
      "File \u001b[1;32mX:\\__Anaconda3__\\envs\\OutlierEnv\\lib\\site-packages\\pycaret\\anomaly\\__init__.py:1\u001b[0m\n\u001b[1;32m----> 1\u001b[0m \u001b[38;5;28;01mfrom\u001b[39;00m \u001b[38;5;21;01mpycaret\u001b[39;00m\u001b[38;5;21;01m.\u001b[39;00m\u001b[38;5;21;01manomaly\u001b[39;00m\u001b[38;5;21;01m.\u001b[39;00m\u001b[38;5;21;01mfunctional\u001b[39;00m \u001b[38;5;28;01mimport\u001b[39;00m (\n\u001b[0;32m      2\u001b[0m     assign_model,\n\u001b[0;32m      3\u001b[0m     create_model,\n\u001b[0;32m      4\u001b[0m     deploy_model,\n\u001b[0;32m      5\u001b[0m     evaluate_model,\n\u001b[0;32m      6\u001b[0m     get_config,\n\u001b[0;32m      7\u001b[0m     get_current_experiment,\n\u001b[0;32m      8\u001b[0m     get_logs,\n\u001b[0;32m      9\u001b[0m     load_experiment,\n\u001b[0;32m     10\u001b[0m     load_model,\n\u001b[0;32m     11\u001b[0m     models,\n\u001b[0;32m     12\u001b[0m     plot_model,\n\u001b[0;32m     13\u001b[0m     predict_model,\n\u001b[0;32m     14\u001b[0m     pull,\n\u001b[0;32m     15\u001b[0m     save_experiment,\n\u001b[0;32m     16\u001b[0m     save_model,\n\u001b[0;32m     17\u001b[0m     set_config,\n\u001b[0;32m     18\u001b[0m     set_current_experiment,\n\u001b[0;32m     19\u001b[0m     setup,\n\u001b[0;32m     20\u001b[0m )\n\u001b[0;32m     21\u001b[0m \u001b[38;5;28;01mfrom\u001b[39;00m \u001b[38;5;21;01mpycaret\u001b[39;00m\u001b[38;5;21;01m.\u001b[39;00m\u001b[38;5;21;01manomaly\u001b[39;00m\u001b[38;5;21;01m.\u001b[39;00m\u001b[38;5;21;01moop\u001b[39;00m \u001b[38;5;28;01mimport\u001b[39;00m AnomalyExperiment\n\u001b[0;32m     23\u001b[0m __all__ \u001b[38;5;241m=\u001b[39m [\n\u001b[0;32m     24\u001b[0m     \u001b[38;5;124m\"\u001b[39m\u001b[38;5;124mAnomalyExperiment\u001b[39m\u001b[38;5;124m\"\u001b[39m,\n\u001b[0;32m     25\u001b[0m     \u001b[38;5;124m\"\u001b[39m\u001b[38;5;124msetup\u001b[39m\u001b[38;5;124m\"\u001b[39m,\n\u001b[1;32m   (...)\u001b[0m\n\u001b[0;32m     42\u001b[0m     \u001b[38;5;124m\"\u001b[39m\u001b[38;5;124mget_current_experiment\u001b[39m\u001b[38;5;124m\"\u001b[39m,\n\u001b[0;32m     43\u001b[0m ]\n",
      "File \u001b[1;32mX:\\__Anaconda3__\\envs\\OutlierEnv\\lib\\site-packages\\pycaret\\anomaly\\functional.py:8\u001b[0m\n\u001b[0;32m      5\u001b[0m \u001b[38;5;28;01mimport\u001b[39;00m \u001b[38;5;21;01mpandas\u001b[39;00m \u001b[38;5;28;01mas\u001b[39;00m \u001b[38;5;21;01mpd\u001b[39;00m\n\u001b[0;32m      6\u001b[0m \u001b[38;5;28;01mfrom\u001b[39;00m \u001b[38;5;21;01mjoblib\u001b[39;00m\u001b[38;5;21;01m.\u001b[39;00m\u001b[38;5;21;01mmemory\u001b[39;00m \u001b[38;5;28;01mimport\u001b[39;00m Memory\n\u001b[1;32m----> 8\u001b[0m \u001b[38;5;28;01mfrom\u001b[39;00m \u001b[38;5;21;01mpycaret\u001b[39;00m\u001b[38;5;21;01m.\u001b[39;00m\u001b[38;5;21;01manomaly\u001b[39;00m\u001b[38;5;21;01m.\u001b[39;00m\u001b[38;5;21;01moop\u001b[39;00m \u001b[38;5;28;01mimport\u001b[39;00m AnomalyExperiment\n\u001b[0;32m      9\u001b[0m \u001b[38;5;28;01mfrom\u001b[39;00m \u001b[38;5;21;01mpycaret\u001b[39;00m\u001b[38;5;21;01m.\u001b[39;00m\u001b[38;5;21;01mloggers\u001b[39;00m\u001b[38;5;21;01m.\u001b[39;00m\u001b[38;5;21;01mbase_logger\u001b[39;00m \u001b[38;5;28;01mimport\u001b[39;00m BaseLogger\n\u001b[0;32m     10\u001b[0m \u001b[38;5;28;01mfrom\u001b[39;00m \u001b[38;5;21;01mpycaret\u001b[39;00m\u001b[38;5;21;01m.\u001b[39;00m\u001b[38;5;21;01mutils\u001b[39;00m\u001b[38;5;21;01m.\u001b[39;00m\u001b[38;5;21;01mconstants\u001b[39;00m \u001b[38;5;28;01mimport\u001b[39;00m DATAFRAME_LIKE, SEQUENCE_LIKE\n",
      "File \u001b[1;32mX:\\__Anaconda3__\\envs\\OutlierEnv\\lib\\site-packages\\pycaret\\anomaly\\oop.py:6\u001b[0m\n\u001b[0;32m      3\u001b[0m \u001b[38;5;28;01mimport\u001b[39;00m \u001b[38;5;21;01mpandas\u001b[39;00m \u001b[38;5;28;01mas\u001b[39;00m \u001b[38;5;21;01mpd\u001b[39;00m\n\u001b[0;32m      5\u001b[0m \u001b[38;5;28;01mfrom\u001b[39;00m \u001b[38;5;21;01mpycaret\u001b[39;00m\u001b[38;5;21;01m.\u001b[39;00m\u001b[38;5;21;01mcontainers\u001b[39;00m\u001b[38;5;21;01m.\u001b[39;00m\u001b[38;5;21;01mmetrics\u001b[39;00m\u001b[38;5;21;01m.\u001b[39;00m\u001b[38;5;21;01manomaly\u001b[39;00m \u001b[38;5;28;01mimport\u001b[39;00m get_all_metric_containers\n\u001b[1;32m----> 6\u001b[0m \u001b[38;5;28;01mfrom\u001b[39;00m \u001b[38;5;21;01mpycaret\u001b[39;00m\u001b[38;5;21;01m.\u001b[39;00m\u001b[38;5;21;01mcontainers\u001b[39;00m\u001b[38;5;21;01m.\u001b[39;00m\u001b[38;5;21;01mmodels\u001b[39;00m\u001b[38;5;21;01m.\u001b[39;00m\u001b[38;5;21;01manomaly\u001b[39;00m \u001b[38;5;28;01mimport\u001b[39;00m get_all_model_containers\n\u001b[0;32m      7\u001b[0m \u001b[38;5;28;01mfrom\u001b[39;00m \u001b[38;5;21;01mpycaret\u001b[39;00m\u001b[38;5;21;01m.\u001b[39;00m\u001b[38;5;21;01minternal\u001b[39;00m\u001b[38;5;21;01m.\u001b[39;00m\u001b[38;5;21;01mlogging\u001b[39;00m \u001b[38;5;28;01mimport\u001b[39;00m get_logger\n\u001b[0;32m      8\u001b[0m \u001b[38;5;28;01mfrom\u001b[39;00m \u001b[38;5;21;01mpycaret\u001b[39;00m\u001b[38;5;21;01m.\u001b[39;00m\u001b[38;5;21;01minternal\u001b[39;00m\u001b[38;5;21;01m.\u001b[39;00m\u001b[38;5;21;01mpycaret_experiment\u001b[39;00m\u001b[38;5;21;01m.\u001b[39;00m\u001b[38;5;21;01munsupervised_experiment\u001b[39;00m \u001b[38;5;28;01mimport\u001b[39;00m (\n\u001b[0;32m      9\u001b[0m     _UnsupervisedExperiment,\n\u001b[0;32m     10\u001b[0m )\n",
      "File \u001b[1;32mX:\\__Anaconda3__\\envs\\OutlierEnv\\lib\\site-packages\\pycaret\\containers\\models\\anomaly.py:17\u001b[0m\n\u001b[0;32m     15\u001b[0m \u001b[38;5;28;01mimport\u001b[39;00m \u001b[38;5;21;01mpycaret\u001b[39;00m\u001b[38;5;21;01m.\u001b[39;00m\u001b[38;5;21;01mcontainers\u001b[39;00m\u001b[38;5;21;01m.\u001b[39;00m\u001b[38;5;21;01mbase_container\u001b[39;00m\n\u001b[0;32m     16\u001b[0m \u001b[38;5;28;01mimport\u001b[39;00m \u001b[38;5;21;01mpycaret\u001b[39;00m\u001b[38;5;21;01m.\u001b[39;00m\u001b[38;5;21;01minternal\u001b[39;00m\u001b[38;5;21;01m.\u001b[39;00m\u001b[38;5;21;01mcuml_wrappers\u001b[39;00m\n\u001b[1;32m---> 17\u001b[0m \u001b[38;5;28;01mfrom\u001b[39;00m \u001b[38;5;21;01mpycaret\u001b[39;00m\u001b[38;5;21;01m.\u001b[39;00m\u001b[38;5;21;01mcontainers\u001b[39;00m\u001b[38;5;21;01m.\u001b[39;00m\u001b[38;5;21;01mmodels\u001b[39;00m\u001b[38;5;21;01m.\u001b[39;00m\u001b[38;5;21;01mbase_model\u001b[39;00m \u001b[38;5;28;01mimport\u001b[39;00m ModelContainer\n\u001b[0;32m     18\u001b[0m \u001b[38;5;28;01mfrom\u001b[39;00m \u001b[38;5;21;01mpycaret\u001b[39;00m\u001b[38;5;21;01m.\u001b[39;00m\u001b[38;5;21;01minternal\u001b[39;00m\u001b[38;5;21;01m.\u001b[39;00m\u001b[38;5;21;01mdistributions\u001b[39;00m \u001b[38;5;28;01mimport\u001b[39;00m Distribution\n\u001b[0;32m     19\u001b[0m \u001b[38;5;28;01mfrom\u001b[39;00m \u001b[38;5;21;01mpycaret\u001b[39;00m\u001b[38;5;21;01m.\u001b[39;00m\u001b[38;5;21;01mutils\u001b[39;00m\u001b[38;5;21;01m.\u001b[39;00m\u001b[38;5;21;01mgeneric\u001b[39;00m \u001b[38;5;28;01mimport\u001b[39;00m get_logger, param_grid_to_lists\n",
      "File \u001b[1;32mX:\\__Anaconda3__\\envs\\OutlierEnv\\lib\\site-packages\\pycaret\\containers\\models\\base_model.py:9\u001b[0m\n\u001b[0;32m      7\u001b[0m \u001b[38;5;28;01mfrom\u001b[39;00m \u001b[38;5;21;01mpycaret\u001b[39;00m\u001b[38;5;21;01m.\u001b[39;00m\u001b[38;5;21;01mcontainers\u001b[39;00m\u001b[38;5;21;01m.\u001b[39;00m\u001b[38;5;21;01mbase_container\u001b[39;00m \u001b[38;5;28;01mimport\u001b[39;00m BaseContainer\n\u001b[0;32m      8\u001b[0m \u001b[38;5;28;01mfrom\u001b[39;00m \u001b[38;5;21;01mpycaret\u001b[39;00m\u001b[38;5;21;01m.\u001b[39;00m\u001b[38;5;21;01minternal\u001b[39;00m\u001b[38;5;21;01m.\u001b[39;00m\u001b[38;5;21;01mdistributions\u001b[39;00m \u001b[38;5;28;01mimport\u001b[39;00m CategoricalDistribution\n\u001b[1;32m----> 9\u001b[0m \u001b[38;5;28;01mfrom\u001b[39;00m \u001b[38;5;21;01mpycaret\u001b[39;00m\u001b[38;5;21;01m.\u001b[39;00m\u001b[38;5;21;01minternal\u001b[39;00m\u001b[38;5;21;01m.\u001b[39;00m\u001b[38;5;21;01mpycaret_experiment\u001b[39;00m\u001b[38;5;21;01m.\u001b[39;00m\u001b[38;5;21;01mpycaret_experiment\u001b[39;00m \u001b[38;5;28;01mimport\u001b[39;00m _PyCaretExperiment\n\u001b[0;32m     10\u001b[0m \u001b[38;5;28;01mfrom\u001b[39;00m \u001b[38;5;21;01mpycaret\u001b[39;00m\u001b[38;5;21;01m.\u001b[39;00m\u001b[38;5;21;01mutils\u001b[39;00m\u001b[38;5;21;01m.\u001b[39;00m\u001b[38;5;21;01mgeneric\u001b[39;00m \u001b[38;5;28;01mimport\u001b[39;00m get_allowed_engines, get_logger\n\u001b[0;32m     13\u001b[0m \u001b[38;5;28;01mclass\u001b[39;00m \u001b[38;5;21;01mModelContainer\u001b[39;00m(BaseContainer):\n",
      "File \u001b[1;32mX:\\__Anaconda3__\\envs\\OutlierEnv\\lib\\site-packages\\pycaret\\internal\\pycaret_experiment\\pycaret_experiment.py:10\u001b[0m\n\u001b[0;32m      7\u001b[0m \u001b[38;5;28;01mimport\u001b[39;00m \u001b[38;5;21;01mcloudpickle\u001b[39;00m\n\u001b[0;32m      8\u001b[0m \u001b[38;5;28;01mimport\u001b[39;00m \u001b[38;5;21;01mpandas\u001b[39;00m \u001b[38;5;28;01mas\u001b[39;00m \u001b[38;5;21;01mpd\u001b[39;00m\n\u001b[1;32m---> 10\u001b[0m \u001b[38;5;28;01mimport\u001b[39;00m \u001b[38;5;21;01mpycaret\u001b[39;00m\u001b[38;5;21;01m.\u001b[39;00m\u001b[38;5;21;01minternal\u001b[39;00m\u001b[38;5;21;01m.\u001b[39;00m\u001b[38;5;21;01mpatches\u001b[39;00m\u001b[38;5;21;01m.\u001b[39;00m\u001b[38;5;21;01msklearn\u001b[39;00m\n\u001b[0;32m     11\u001b[0m \u001b[38;5;28;01mimport\u001b[39;00m \u001b[38;5;21;01mpycaret\u001b[39;00m\u001b[38;5;21;01m.\u001b[39;00m\u001b[38;5;21;01minternal\u001b[39;00m\u001b[38;5;21;01m.\u001b[39;00m\u001b[38;5;21;01mpatches\u001b[39;00m\u001b[38;5;21;01m.\u001b[39;00m\u001b[38;5;21;01myellowbrick\u001b[39;00m\n\u001b[0;32m     12\u001b[0m \u001b[38;5;28;01mimport\u001b[39;00m \u001b[38;5;21;01mpycaret\u001b[39;00m\u001b[38;5;21;01m.\u001b[39;00m\u001b[38;5;21;01minternal\u001b[39;00m\u001b[38;5;21;01m.\u001b[39;00m\u001b[38;5;21;01mpersistence\u001b[39;00m\n",
      "File \u001b[1;32mX:\\__Anaconda3__\\envs\\OutlierEnv\\lib\\site-packages\\pycaret\\internal\\patches\\sklearn.py:9\u001b[0m\n\u001b[0;32m      6\u001b[0m \u001b[38;5;28;01mfrom\u001b[39;00m \u001b[38;5;21;01msklearn\u001b[39;00m\u001b[38;5;21;01m.\u001b[39;00m\u001b[38;5;21;01mmodel_selection\u001b[39;00m\u001b[38;5;21;01m.\u001b[39;00m\u001b[38;5;21;01m_validation\u001b[39;00m \u001b[38;5;28;01mimport\u001b[39;00m _fit_and_score, _score\n\u001b[0;32m      7\u001b[0m \u001b[38;5;28;01mfrom\u001b[39;00m \u001b[38;5;21;01msklearn\u001b[39;00m\u001b[38;5;21;01m.\u001b[39;00m\u001b[38;5;21;01mutils\u001b[39;00m \u001b[38;5;28;01mimport\u001b[39;00m check_random_state\n\u001b[1;32m----> 9\u001b[0m \u001b[38;5;28;01mfrom\u001b[39;00m \u001b[38;5;21;01mpycaret\u001b[39;00m\u001b[38;5;21;01m.\u001b[39;00m\u001b[38;5;21;01minternal\u001b[39;00m\u001b[38;5;21;01m.\u001b[39;00m\u001b[38;5;21;01mpipeline\u001b[39;00m \u001b[38;5;28;01mimport\u001b[39;00m pipeline_predict_inverse_only\n\u001b[0;32m     11\u001b[0m \u001b[38;5;66;03m# Monkey patching sklearn.model_selection._search to avoid overflows on windows.\u001b[39;00m\n\u001b[0;32m     12\u001b[0m \n\u001b[0;32m     13\u001b[0m \n\u001b[0;32m     14\u001b[0m \u001b[38;5;66;03m# adapted from https://github.com/scikit-learn/scikit-learn/blob/master/sklearn/utils/_random.pyx\u001b[39;00m\n\u001b[0;32m     15\u001b[0m \u001b[38;5;28;01mdef\u001b[39;00m \u001b[38;5;21m_mp_sample_without_replacement\u001b[39m(\n\u001b[0;32m     16\u001b[0m     n_population: \u001b[38;5;28mint\u001b[39m, n_samples: \u001b[38;5;28mint\u001b[39m, method\u001b[38;5;241m=\u001b[39m\u001b[38;5;28;01mNone\u001b[39;00m, random_state\u001b[38;5;241m=\u001b[39m\u001b[38;5;28;01mNone\u001b[39;00m\n\u001b[0;32m     17\u001b[0m ) \u001b[38;5;241m-\u001b[39m\u001b[38;5;241m>\u001b[39m Any:\n",
      "File \u001b[1;32mX:\\__Anaconda3__\\envs\\OutlierEnv\\lib\\site-packages\\pycaret\\internal\\pipeline.py:19\u001b[0m\n\u001b[0;32m     17\u001b[0m \u001b[38;5;28;01mimport\u001b[39;00m \u001b[38;5;21;01msklearn\u001b[39;00m\u001b[38;5;21;01m.\u001b[39;00m\u001b[38;5;21;01mpipeline\u001b[39;00m\n\u001b[0;32m     18\u001b[0m \u001b[38;5;28;01mfrom\u001b[39;00m \u001b[38;5;21;01msklearn\u001b[39;00m\u001b[38;5;21;01m.\u001b[39;00m\u001b[38;5;21;01mbase\u001b[39;00m \u001b[38;5;28;01mimport\u001b[39;00m clone\n\u001b[1;32m---> 19\u001b[0m \u001b[38;5;28;01mfrom\u001b[39;00m \u001b[38;5;21;01msklearn\u001b[39;00m\u001b[38;5;21;01m.\u001b[39;00m\u001b[38;5;21;01mutils\u001b[39;00m \u001b[38;5;28;01mimport\u001b[39;00m _print_elapsed_time\n\u001b[0;32m     20\u001b[0m \u001b[38;5;28;01mfrom\u001b[39;00m \u001b[38;5;21;01msklearn\u001b[39;00m\u001b[38;5;21;01m.\u001b[39;00m\u001b[38;5;21;01mutils\u001b[39;00m\u001b[38;5;21;01m.\u001b[39;00m\u001b[38;5;21;01mmetadata_routing\u001b[39;00m \u001b[38;5;28;01mimport\u001b[39;00m _routing_enabled\n\u001b[0;32m     21\u001b[0m \u001b[38;5;28;01mfrom\u001b[39;00m \u001b[38;5;21;01msklearn\u001b[39;00m\u001b[38;5;21;01m.\u001b[39;00m\u001b[38;5;21;01mutils\u001b[39;00m\u001b[38;5;21;01m.\u001b[39;00m\u001b[38;5;21;01mmetaestimators\u001b[39;00m \u001b[38;5;28;01mimport\u001b[39;00m available_if\n",
      "\u001b[1;31mImportError\u001b[0m: cannot import name '_print_elapsed_time' from 'sklearn.utils' (X:\\__Anaconda3__\\envs\\OutlierEnv\\lib\\site-packages\\sklearn\\utils\\__init__.py)"
     ]
    }
   ],
   "source": [
    "import sys\n",
    "sys.path.insert(1, \"../\")\n",
    "import utilities as utils\n",
    "\n",
    "from datetime import datetime\n",
    "import pandas as pd\n",
    "\n",
    "from sklearn import tree\n",
    "import graphviz\n",
    "\n",
    "import pycaret.anomaly as py_caret_anom\n",
    "import pycaret.classification as py_caret_class\n",
    "from collections import Counter\n",
    "\n",
    "from tqdm.notebook import tqdm\n",
    "\n",
    "import altair as alt\n",
    "alt.data_transformers.enable(\"vegafusion\")"
   ]
  },
  {
   "cell_type": "code",
   "execution_count": null,
   "id": "66386939-6383-4a29-98be-ab9e213d596f",
   "metadata": {},
   "outputs": [],
   "source": [
    "# tensorboard 2.10.1 requires protobuf<3.20,>=3.9.2, but you have protobuf 5.27.2 which is incompatible.\n",
    "# tensorflow 2.10.1 requires keras<2.11,>=2.10.0, but you have keras 3.4.1 which is incompatible.\n",
    "# tensorflow 2.10.1 requires protobuf<3.20,>=3.9.2, but you have protobuf 5.27.2 which is incompatible.\n",
    "# tf-keras 2.16.0 requires tensorflow<2.17,>=2.16, but you have tensorflow 2.10.1 which is incompatible.\n",
    "# matplotlib 3.7.5 requires numpy<2,>=1.20, but you have numpy 2.0.0 which is incompatible.\n",
    "# pycaret 3.3.2 requires joblib<1.4,>=1.2.0, but you have joblib 1.4.2 which is incompatible.\n",
    "# pycaret 3.3.2 requires numpy<1.27,>=1.21, but you have numpy 2.0.0 which is incompatible.\n",
    "# pycaret 3.3.2 requires pandas<2.2.0, but you have pandas 2.2.2 which is incompatible.\n",
    "# pycaret 3.3.2 requires scipy<=1.11.4,>=1.6.1, but you have scipy 1.13.1 which is incompatible.\n",
    "# sktime 0.26.0 requires numpy<1.27,>=1.21, but you have numpy 2.0.0 which is incompatible.\n",
    "# sktime 0.26.0 requires pandas<2.2.0,>=1.1, but you have pandas 2.2.2 which is incompatible.\n",
    "# sktime 0.26.0 requires scikit-learn<1.5.0,>=0.24, but you have scikit-learn 1.5.1 which is incompatible."
   ]
  },
  {
   "cell_type": "code",
   "execution_count": null,
   "id": "47fe6ec9-c59c-48fe-b7a8-d98ceaaf5a7b",
   "metadata": {},
   "outputs": [],
   "source": [
    "# !pip install \"pandas<2.2.0\""
   ]
  },
  {
   "cell_type": "code",
   "execution_count": null,
   "id": "078b48ea-b444-498a-a85a-7256fa8baf0d",
   "metadata": {},
   "outputs": [],
   "source": [
    "start_time = datetime.now()\n",
    "print(f\" Process started @ {start_time}\")"
   ]
  },
  {
   "cell_type": "code",
   "execution_count": null,
   "id": "91473585-ca9d-490c-9b2b-5b2d936bed5b",
   "metadata": {},
   "outputs": [],
   "source": [
    "# !pip install graphviz"
   ]
  },
  {
   "cell_type": "code",
   "execution_count": null,
   "id": "8c291940-7037-4705-a193-f1ecdc8ed3db",
   "metadata": {},
   "outputs": [],
   "source": [
    "global_excluded_cols = ['Field03', \n",
    "                        'Field30',\n",
    "                        'Field91',\n",
    "                        'Field92',\n",
    "                        'Field93',\n",
    "                        'Field94',\n",
    "                        'Field95',\n",
    "                        'Field96']\n",
    "\n",
    "# global_excluded_cols = [\"DateKey\", \n",
    "#                         'TruckOperationCostRate',\n",
    "#                         'DiggerOperationCostRate',\n",
    "#                         'TruckOperationCost',\n",
    "#                         'DiggerOperationCost',\n",
    "#                         'CycleOperationCost',\n",
    "#                         'Revenue']\n",
    "random_state = 423546 # 21435 # 218\n",
    "null_threshold = 0.01\n",
    "anomaly_fraction = 0.35 # 0.01 0.05 0.10 0.15 0.20 0.25 0.30 0.35 \n",
    "anomaly_fractions = [0.01, 0.35] # [0.01, 0.15, 0.35]\n",
    "max_encoding_ohe = 26 # 11\n",
    "lime_num_features = 5\n",
    "\n",
    "color_scheme = \"plasma\" # plasma turbo yellowgreenblue goldorange"
   ]
  },
  {
   "cell_type": "code",
   "execution_count": null,
   "id": "dc1ef038-6f35-4565-8984-0601827bce8b",
   "metadata": {},
   "outputs": [],
   "source": [
    "sample_data_df = pd.read_csv(\"../output/sample_data_00.csv\")\n",
    "sample_data_df"
   ]
  },
  {
   "cell_type": "code",
   "execution_count": null,
   "id": "f2861967-da6f-4f55-9b8d-070074e7b119",
   "metadata": {},
   "outputs": [],
   "source": [
    "# Setting the DataFrame index\n",
    "possible_unique_key_list = utils.get_unique_col(source_df=sample_data_df)\n",
    "\n",
    "if len(possible_unique_key_list) == 1:\n",
    "    alt_sample_data_df = sample_data_df.copy()\n",
    "    alt_sample_data_df = alt_sample_data_df.set_index(possible_unique_key_list[0])\n",
    "else:\n",
    "    print(f\"Could not detect index column automatically. Using default.\")\n",
    "    alt_sample_data_df = sample_data_df.copy()\n",
    "    alt_sample_data_df = alt_sample_data_df.set_index([\"Field00\"])"
   ]
  },
  {
   "cell_type": "code",
   "execution_count": null,
   "id": "84d40aa9-dea6-46e8-abc8-92cb27cbcb24",
   "metadata": {},
   "outputs": [],
   "source": [
    "alt_sample_data_df"
   ]
  },
  {
   "cell_type": "code",
   "execution_count": null,
   "id": "23c544e1-a9c3-4b74-a803-167b10e21f32",
   "metadata": {},
   "outputs": [],
   "source": [
    "alt_sample_data_df = alt_sample_data_df.drop(columns=global_excluded_cols)"
   ]
  },
  {
   "cell_type": "code",
   "execution_count": null,
   "id": "d21cf095-e6c3-463b-aecf-6e970ff59e54",
   "metadata": {},
   "outputs": [],
   "source": [
    "alt_sample_data_df"
   ]
  },
  {
   "cell_type": "code",
   "execution_count": null,
   "id": "84cac148-d019-4099-821e-fd69bfdc896d",
   "metadata": {},
   "outputs": [],
   "source": [
    "# Dropping rows with missing values\n",
    "perc_null_dict = utils.find_null_columns(source_df=alt_sample_data_df)\n",
    "\n",
    "alt_sample_data_df = alt_sample_data_df.copy()\n",
    "data_len_0 = len(alt_sample_data_df)\n",
    "\n",
    "all_cols = list(alt_sample_data_df.columns)\n",
    "keep_cols = [x for x in all_cols if x not in global_excluded_cols]\n",
    "removed_cols = [x for x in all_cols if x not in keep_cols]\n",
    "alt_sample_data_df = alt_sample_data_df[keep_cols]\n",
    "\n",
    "alt_sample_data_df, removed_cols = \\\n",
    "    utils.remove_null_cols_by_threshold(source_df=alt_sample_data_df, perc_null_dict=perc_null_dict, null_threshold=null_threshold)\n",
    "\n",
    "print(f\"  >> removed_cols (threshold: {null_threshold}): {removed_cols}\")\n",
    "\n",
    "alt_sample_data_df = alt_sample_data_df.dropna(how=\"any\")#.reset_index(drop=True)\n",
    "data_len_1 = len(alt_sample_data_df)\n",
    "print(f\"  >> {data_len_0 - data_len_1} records dropped.\")"
   ]
  },
  {
   "cell_type": "code",
   "execution_count": null,
   "id": "a31259b5-4ebd-4a09-a372-9b249501b787",
   "metadata": {},
   "outputs": [],
   "source": [
    "alt_sample_data_df.shape"
   ]
  },
  {
   "cell_type": "code",
   "execution_count": null,
   "id": "c5daab0c-9788-43d0-8f34-d63229b83a73",
   "metadata": {},
   "outputs": [],
   "source": [
    "alt_sample_data_df[[\"Field25\"]].value_counts()"
   ]
  },
  {
   "cell_type": "code",
   "execution_count": null,
   "id": "0b187a5c-f5e5-4570-b24a-b21eb849173a",
   "metadata": {},
   "outputs": [],
   "source": [
    "alt_sample_data_df.iloc[:, -21:-19]"
   ]
  },
  {
   "cell_type": "code",
   "execution_count": null,
   "id": "c11c77a3-34ae-43e3-8636-e739a503ec9c",
   "metadata": {},
   "outputs": [],
   "source": [
    "# Generate potential anomaly charts\n",
    "anomaly_exp = py_caret_anom.setup(data=alt_sample_data_df,\n",
    "                                  session_id=random_state,\n",
    "                                  max_encoding_ohe=max_encoding_ohe,\n",
    "                                  ignore_features=global_excluded_cols,\n",
    "                                  preprocess=True,\n",
    "                                  imputation_type=\"simple\",\n",
    "                                  numeric_imputation=\"mean\",\n",
    "                                  categorical_imputation=\"mode\",\n",
    "                                  bin_numeric_features=None,\n",
    "                                 )"
   ]
  },
  {
   "cell_type": "code",
   "execution_count": null,
   "id": "8979f011-fd04-4706-b60d-9b38bdff662e",
   "metadata": {},
   "outputs": [],
   "source": [
    "sub_process_start_time = datetime.now()\n",
    "print(f\" Sub process started @ {sub_process_start_time}\")\n",
    "\n",
    "anomaly_model_list = [\"cluster\", \"iforest\"] # , \"histogram\", \"lof\", \"pca\", \"mcd\"] #, \"knn\"] # \"cof\", \"svm\", \"abod\", \"sod\", \"sos\"\n",
    "# anomaly_model_list = [\"forest\"]\n",
    "tooltip = [\"Field17\", \"Field86\", \"Field56\", \"Field52\", \"Field90\"]\n",
    "# tooltip = [\"TruckKey\", \"DiggerTimeCat1\", \"CycleOperationCost\", \"HaulDistance\", \"EmptyDistance\", \"CycleTime\"]\n",
    "\n",
    "tooltip_alt = [x for x in tooltip if x in alt_sample_data_df.columns]\n",
    "tooltip_alt = [x for x in tooltip_alt if x not in global_excluded_cols]\n",
    "print(\"tooltip_alt :\", tooltip_alt)\n",
    "    \n",
    "tooltip_alt = [x for x in tooltip_alt if x not in removed_cols]\n",
    "print(\"tooltip_alt :\", tooltip_alt)\n",
    "\n",
    "anomalies_return_dict, anomalies_combined_chart = \\\n",
    "    utils.test_many_anomaly_models(source_df=alt_sample_data_df, \n",
    "                                   pycaret_exp=anomaly_exp,\n",
    "                                   anomaly_model_list=anomaly_model_list,\n",
    "                                   tooltip=tooltip_alt,\n",
    "                                   color_scheme=\"plasma\", # plasma turbo yellowgreenblue goldorange\n",
    "                                   color_column=\"Anomaly\", \n",
    "                                   data_name=\"Records of X\",\n",
    "                                   data_name_suffix=\"Characteristics\",\n",
    "                                   opacity=0.25,\n",
    "                                   anomaly_chart_cols=2,\n",
    "                                   anomaly_chart_width=400,\n",
    "                                   anomaly_chart_height=400,\n",
    "                                   anomaly_fractions=anomaly_fractions)\n",
    "\n",
    "anomalies_combined_chart.display()\n",
    "\n",
    "sub_process_end_time = datetime.now()\n",
    "sub_process_duration = sub_process_end_time - sub_process_start_time \n",
    "print(f\"Sub process ended @ {sub_process_end_time}\")\n",
    "print(f\"sub_process_duration {sub_process_duration}\")"
   ]
  },
  {
   "cell_type": "code",
   "execution_count": null,
   "id": "5d82e9c5-0abe-410a-9f98-886cbe39dcd7",
   "metadata": {},
   "outputs": [],
   "source": []
  },
  {
   "cell_type": "code",
   "execution_count": null,
   "id": "79b898aa-17a1-4d01-82fc-b918aa28d171",
   "metadata": {},
   "outputs": [],
   "source": [
    "tooltip = [\"Field17\", \"Field86\", \"Field56\", \"Field52\", \"Field90\"]\n",
    "# tooltip = [\"TruckKey\", \"DiggerTimeCat1\", \"CycleOperationCost\", \"HaulDistance\", \"EmptyDistance\", \"CycleTime\"]\n",
    "\n",
    "tooltip_alt = [x for x in tooltip if x in alt_sample_data_df.columns]\n",
    "tooltip_alt = [x for x in tooltip_alt if x not in global_excluded_cols]   \n",
    "tooltip_alt = [x for x in tooltip_alt if x not in removed_cols]\n",
    "\n",
    "try:\n",
    "    cluster_anomaly_predictions_df, cluster_anomaly_chart, cluster_anomaly_model = \\\n",
    "        utils.test_anomaly_model(source_df=alt_sample_data_df, \n",
    "                                 pycaret_exp=anomaly_exp,\n",
    "                                 model_type=\"cluster\", \n",
    "                                 fraction=anomaly_fraction, \n",
    "                                 size_col=None,\n",
    "                                 color_column=\"Anomaly\", \n",
    "                                 data_name=\"Records of X\",\n",
    "                                 data_name_suffix=\"Characteristics\",\n",
    "                                 color_scheme=color_scheme, \n",
    "                                 opacity=0.15,\n",
    "                                 tooltip=tooltip_alt,\n",
    "                                 anomaly_chart_width=750,\n",
    "                                 anomaly_chart_height=750,\n",
    "                                 random_state=random_state)\n",
    "\n",
    "    cluster_anomaly_chart.display()\n",
    "except:\n",
    "    print(f\"  >> Could not create anomaly model.\")"
   ]
  },
  {
   "cell_type": "code",
   "execution_count": null,
   "id": "69703289-f9ea-4165-80c4-dea6f4ed2c5c",
   "metadata": {},
   "outputs": [],
   "source": []
  },
  {
   "cell_type": "code",
   "execution_count": null,
   "id": "98efd5a1-cf1a-4470-acc4-c3f45ebad273",
   "metadata": {},
   "outputs": [],
   "source": []
  },
  {
   "cell_type": "code",
   "execution_count": null,
   "id": "688ad09e-44c4-4b7b-b938-060a60defb42",
   "metadata": {},
   "outputs": [],
   "source": [
    "anomaly_X_transformed = py_caret_anom.get_config(\"X_transformed\")"
   ]
  },
  {
   "cell_type": "code",
   "execution_count": null,
   "id": "95f12fdf-c9c6-4994-80c6-a040ef25ca1d",
   "metadata": {},
   "outputs": [],
   "source": [
    "sub_process_start_time = datetime.now()\n",
    "print(f\" Sub process started @ {sub_process_start_time}\")\n",
    "\n",
    "try:\n",
    "    print(f\"  >> Generating Lime explanations...\")\n",
    "    anomaly_lime_dict, anomaly_lime_single_record_exp_list, \\\n",
    "        lime_anomaly_predictions, lime_anomaly_predictions_alt, lime_anomaly_model, lime_anomaly_experiment, lime_anomaly_explainer = \\\n",
    "        utils.get_lime_explanations_for_anomalies(transformed_data_df=anomaly_X_transformed, \n",
    "                                                  model_type=\"cluster\",\n",
    "                                                  lime_num_features=lime_num_features,\n",
    "                                                  anomaly_fraction=anomaly_fraction,\n",
    "                                                  anomaly_kernel_width=None)\n",
    "except:\n",
    "    print(f\"  >> Could not generate Lime explanations.\")\n",
    "    anomaly_lime_dict = {}\n",
    "    anomaly_lime_single_record_exp_list = []\n",
    "\n",
    "sub_process_end_time = datetime.now()\n",
    "sub_process_duration = sub_process_end_time - sub_process_start_time \n",
    "print(f\"Sub process ended @ {sub_process_end_time}\")\n",
    "print(f\"sub_process_duration {sub_process_duration}\")"
   ]
  },
  {
   "cell_type": "code",
   "execution_count": null,
   "id": "8ea9bb22-d017-4b82-918b-b6579054a052",
   "metadata": {},
   "outputs": [],
   "source": []
  },
  {
   "cell_type": "code",
   "execution_count": null,
   "id": "9f1e0b98-c74e-4f0d-ab54-754358f3af83",
   "metadata": {},
   "outputs": [],
   "source": [
    "positive_influence_on_anomaly_list = []\n",
    "positive_influence_on_anomaly_dict = {}\n",
    "\n",
    "for id_key, anom_dict in anomaly_lime_dict.items():\n",
    "    temp_positive_influence_on_anomaly = anom_dict[\"positive_influence_on_anomaly\"]\n",
    "    positive_influence_on_anomaly_list.extend(temp_positive_influence_on_anomaly)\n",
    "    positive_influence_on_anomaly_dict[id_key] = temp_positive_influence_on_anomaly\n",
    "    \n",
    "\n",
    "positive_influence_on_anomaly_counter = Counter(positive_influence_on_anomaly_list)\n",
    "positive_influence_on_anomaly_counter.most_common(10)\n",
    "\n",
    "anomaly_rank_rename_dict = {x: \"Lime_Rank_\" + str(x) for x in range(0, lime_num_features)}\n",
    "anomaly_rank_rename_dict\n",
    "\n",
    "positive_influence_on_anomaly_df = pd.DataFrame.from_dict(positive_influence_on_anomaly_dict, orient=\"index\")\n",
    "positive_influence_on_anomaly_df = positive_influence_on_anomaly_df.rename(columns=anomaly_rank_rename_dict)\n",
    "\n",
    "positive_influence_on_anomaly_df\n",
    "\n",
    "\n",
    "anomaly_rank_rename_list = [y for _, y in anomaly_rank_rename_dict.items()]\n",
    "anomaly_rank_rename_list\n",
    "\n",
    "cluster_anomaly_predictions_with_lime_df = cluster_anomaly_predictions_df.copy()\n",
    "cluster_anomaly_predictions_with_lime_df = \\\n",
    "    cluster_anomaly_predictions_with_lime_df.merge(positive_influence_on_anomaly_df, how=\"left\", left_index=True, right_index=True)\n",
    "cluster_anomaly_predictions_with_lime_df = \\\n",
    "    cluster_anomaly_predictions_with_lime_df.merge(lime_anomaly_predictions\\\n",
    "                                                   .rename(columns={\"Anomaly\": \"Lime_Anomaly\", \"Anomaly_Score\": \"Lime_Anomaly_Score\"})[[\"Lime_Anomaly\", \"Lime_Anomaly_Score\"]]\\\n",
    "                                                   , how=\"left\", left_index=True, right_index=True)\n",
    "\n",
    "cluster_anomaly_predictions_with_lime_df[anomaly_rank_rename_list] = cluster_anomaly_predictions_with_lime_df[anomaly_rank_rename_list].fillna(\"-\")\n",
    "cluster_anomaly_predictions_with_lime_df\n",
    "\n",
    "\n",
    "lime_tool_tip_cols = [\"Anomaly_Score\", \"Anomaly\", \n",
    "                      \"Lime_Anomaly_Score\", \"Lime_Anomaly\", \n",
    "                      \"Field17\", \"Field86\", \"Field56\", \"Field52\", \"Field90\"]\n",
    "# lime_tool_tip_cols = [\"Anomaly_Score\", \"Anomaly\", \n",
    "#                       \"Lime_Anomaly_Score\", \"Lime_Anomaly\", \n",
    "#                       \"CycleOperationCost\",\n",
    "#                       \"CycleTime\", \"DiggerTimeCat1\", \"TruckTimeCat1\", \"TruckGeneralProduction\", \"Empty\", \"QueueAtDigger\"]\n",
    "\n",
    "lime_tool_tip_cols_alt = [x for x in lime_tool_tip_cols if x not in global_excluded_cols]\n",
    "print(\"lime_tool_tip_cols_alt :\", lime_tool_tip_cols_alt)\n",
    "lime_tool_tip_cols_alt = [x for x in lime_tool_tip_cols_alt if x not in removed_cols]\n",
    "lime_tool_tip_cols_alt.extend(anomaly_rank_rename_list)\n",
    "\n",
    "utils.plot_anomaly_chart(anomaly_df=cluster_anomaly_predictions_with_lime_df,\n",
    "                         dim_0_col=\"UMAP_0\",\n",
    "                         dim_1_col=\"UMAP_1\",\n",
    "                         data_name=\"Records for X\",\n",
    "                         data_name_suffix=\"Anomalies\",\n",
    "                         size_col=None,\n",
    "                         color_column=\"Anomaly\",\n",
    "                         color_scheme=color_scheme,\n",
    "                         model_type=\"lime\",\n",
    "                         anomaly_chart_width=750,\n",
    "                         anomaly_chart_height=750,\n",
    "                         tool_tip_cols=lime_tool_tip_cols_alt)"
   ]
  },
  {
   "cell_type": "code",
   "execution_count": null,
   "id": "7d967e55-bfee-49a9-8d7d-1b54aaa896c6",
   "metadata": {},
   "outputs": [],
   "source": [
    "cluster_anomaly_predictions_df"
   ]
  },
  {
   "cell_type": "code",
   "execution_count": null,
   "id": "fea8a29b-bbfd-405b-bcda-d57c263f4d7e",
   "metadata": {},
   "outputs": [],
   "source": [
    "top_item_num = 5\n",
    "other_str = \"Other\""
   ]
  },
  {
   "cell_type": "code",
   "execution_count": null,
   "id": "b84a9f51-53c2-4310-b76e-54eafd5d69eb",
   "metadata": {},
   "outputs": [],
   "source": [
    "cluster_anomaly_predictions_df_alt, cluster_anomaly_int_cols, cluster_anomaly_str_cols, cluster_anomaly_time_cols, cluster_anomaly_float_cols = \\\n",
    "    utils.prepare_data_columns(source_anomaly_df=cluster_anomaly_predictions_df, top_item_num=top_item_num, other_str=other_str)\n",
    "\n",
    "cluster_anomaly_predictions_df_alt"
   ]
  },
  {
   "cell_type": "code",
   "execution_count": null,
   "id": "97032b34-90d5-4e2f-b427-fff212ef9722",
   "metadata": {},
   "outputs": [],
   "source": [
    "cluster_anomaly_predictions_df_alt#[\"Anomaly\"]#.value_counts()"
   ]
  },
  {
   "cell_type": "code",
   "execution_count": null,
   "id": "9492cbca-2fc8-4ce8-aa2b-8836020312e4",
   "metadata": {},
   "outputs": [],
   "source": [
    "target = \"Anomaly_Mapped\"\n",
    "# ignore_features.extend([\"Anomaly_Score\", \"UMAP_0\", \"UMAP_1\"])\n",
    "ignore_features = [\"Anomaly\", \"Anomaly_Score\", \"UMAP_0\", \"UMAP_1\"]\n",
    "cluster_anomaly_predictions_df_alt[target] = cluster_anomaly_predictions_df_alt[\"Anomaly\"].map({\"0\": \"Normal\", \"1\": \"Anomaly\"})\n",
    "ignore_features_alt = ignore_features.copy()\n",
    "ignore_features_alt.extend(global_excluded_cols)\n",
    "\n",
    "# fix_imbalance = True\n",
    "# preprocess = True\n",
    "# data_split_stratify = True\n",
    "# fold_shuffle = True\n",
    "\n",
    "numeric_features = cluster_anomaly_float_cols.copy()\n",
    "numeric_features = [x for x in numeric_features if x not in ignore_features]\n",
    "numeric_features = [x for x in numeric_features if x not in [target]]\n",
    "\n",
    "categorical_features = cluster_anomaly_int_cols.copy()\n",
    "categorical_features.extend(cluster_anomaly_str_cols)\n",
    "categorical_features = [x for x in categorical_features if x not in ignore_features]\n",
    "categorical_features = [x for x in categorical_features if x not in [target]]\n",
    "\n",
    "date_features = cluster_anomaly_time_cols.copy()\n",
    "date_features = [x for x in date_features if x not in ignore_features]\n",
    "date_features = [x for x in date_features if x not in [target]]\n",
    "\n",
    "\n",
    "# cluster_anomaly_predictions_df_alt_test = cluster_anomaly_predictions_df_alt.copy()\n",
    "# test_cols = categorical_features.copy()\n",
    "# test_cols = test_cols[:1]\n",
    "# test_cols.append(target)\n",
    "\n",
    "# cluster_anomaly_predictions_df_alt_test = cluster_anomaly_predictions_df_alt_test[test_cols]\n",
    "# cluster_anomaly_predictions_df_alt_test[target] = cluster_anomaly_predictions_df_alt_test[target].map({\"0\": \"Normal\", \"1\": \"Anomaly\"})"
   ]
  },
  {
   "cell_type": "code",
   "execution_count": null,
   "id": "d4434f48-0aae-4271-b4f7-6cf12153cf55",
   "metadata": {
    "scrolled": true
   },
   "outputs": [],
   "source": [
    "chart_cols = 3\n",
    "width = 250\n",
    "height = 250\n",
    "\n",
    "temp_row_charts = []\n",
    "temp_col_charts = []\n",
    "\n",
    "for numeric_feature in tqdm(numeric_features):\n",
    "\n",
    "    temp_chart = alt.Chart(cluster_anomaly_predictions_df_alt)\\\n",
    "                    .mark_bar(opacity=0.5, color=\"magenta\")\\\n",
    "                    .encode(x=alt.X(numeric_feature, \n",
    "                                    bin=alt.Bin(maxbins=50),\n",
    "                                    title=numeric_feature),\n",
    "                            y=\"count()\")\\\n",
    "                    .properties(title=numeric_feature,\n",
    "                                width=width,\n",
    "                                height=height)\n",
    "    \n",
    "    temp_row_charts.append(temp_chart)\n",
    "    \n",
    "    if len(temp_row_charts) == chart_cols:\n",
    "        temp_row = alt.hconcat(*temp_row_charts)\n",
    "        temp_col_charts.append(temp_row)\n",
    "        temp_row_charts = []\n",
    "\n",
    "if len(temp_row_charts) > 0:\n",
    "    temp_row = alt.hconcat(*temp_row_charts)\n",
    "    temp_col_charts.append(temp_row)\n",
    "    temp_row_charts = []\n",
    "\n",
    "alt.vconcat(*temp_col_charts)"
   ]
  },
  {
   "cell_type": "code",
   "execution_count": null,
   "id": "25b63021-0095-4907-87f4-cb571dc485e4",
   "metadata": {},
   "outputs": [],
   "source": []
  },
  {
   "cell_type": "code",
   "execution_count": null,
   "id": "1fc9cf2c-79c7-43b2-b758-915c4112472f",
   "metadata": {},
   "outputs": [],
   "source": [
    "cluster_anomaly_predictions_df_alt.columns"
   ]
  },
  {
   "cell_type": "code",
   "execution_count": null,
   "id": "7a4c5b5c-2b1d-4ac6-8004-9da312df06fc",
   "metadata": {},
   "outputs": [],
   "source": []
  },
  {
   "cell_type": "code",
   "execution_count": null,
   "id": "65a0e321-9430-4940-99df-4e7d8dc6b692",
   "metadata": {},
   "outputs": [],
   "source": [
    "class_exp = py_caret_class.setup(data=cluster_anomaly_predictions_df_alt,\n",
    "                                 session_id=random_state,\n",
    "                                 target=target,\n",
    "                                 numeric_features=numeric_features,\n",
    "                                 categorical_features=categorical_features,\n",
    "                                 date_features=date_features,\n",
    "\n",
    "                                 # preprocess=preprocess,\n",
    "                                 # data_split_stratify=data_split_stratify,\n",
    "                                 # fix_imbalance=fix_imbalance,\n",
    "                                 # fold_shuffle=fold_shuffle,\n",
    "                                 bin_numeric_features=None,\n",
    "                                 ignore_features=ignore_features_alt)"
   ]
  },
  {
   "cell_type": "code",
   "execution_count": null,
   "id": "76b89d74-3f33-438f-a436-648991494707",
   "metadata": {},
   "outputs": [],
   "source": [
    "class_exp_conf_df = pd.DataFrame(class_exp._display_container[0])\n",
    "class_target_mapping = class_exp_conf_df[class_exp_conf_df['Description'] == 'Target mapping']['Value'].values\n",
    "\n",
    "target_mapping_dict = dict()\n",
    "for item in class_target_mapping[0].split(\", \"):\n",
    "    label, encoding = item.split(\": \")\n",
    "    target_mapping_dict[encoding] = label\n",
    "\n",
    "target_mapping_dict"
   ]
  },
  {
   "cell_type": "code",
   "execution_count": null,
   "id": "9ce93c34-2ecb-4815-98e3-e9d53c3caa31",
   "metadata": {},
   "outputs": [],
   "source": [
    "class_best_model = py_caret_class.compare_models(sort=\"auc\")"
   ]
  },
  {
   "cell_type": "code",
   "execution_count": null,
   "id": "6f3b7ba8-39c1-4536-8854-7539d84c36d5",
   "metadata": {},
   "outputs": [],
   "source": [
    "py_caret_class.plot_model(class_best_model, plot='auc')"
   ]
  },
  {
   "cell_type": "code",
   "execution_count": null,
   "id": "7067d2b3-585a-4ab0-a045-f9a6e94bcf2a",
   "metadata": {},
   "outputs": [],
   "source": []
  },
  {
   "cell_type": "code",
   "execution_count": null,
   "id": "c4b19f2e-358a-4ea8-b984-42e49656fbf3",
   "metadata": {},
   "outputs": [],
   "source": [
    "dt_class_model = py_caret_class.create_model(\"dt\", max_depth=2)"
   ]
  },
  {
   "cell_type": "code",
   "execution_count": null,
   "id": "d832c2aa-59ae-42f5-94ed-1730c8651b68",
   "metadata": {},
   "outputs": [],
   "source": [
    "class_names = [target_mapping_dict[str(x)] for x in dt_class_model.classes_]"
   ]
  },
  {
   "cell_type": "code",
   "execution_count": null,
   "id": "a83395e6-0731-4fbc-a8d8-9870406999e1",
   "metadata": {},
   "outputs": [],
   "source": [
    "tree.plot_tree(dt_class_model, \n",
    "               feature_names=dt_class_model.feature_names_in_, \n",
    "               class_names=class_names,\n",
    "               filled=True, \n",
    "               rounded=True)"
   ]
  },
  {
   "cell_type": "code",
   "execution_count": null,
   "id": "87b654ee-513a-4994-a618-e77e5da28c88",
   "metadata": {},
   "outputs": [],
   "source": [
    "utils.get_rules(tree=dt_class_model, feature_names=dt_class_model.feature_names_in_, class_names=class_names)"
   ]
  },
  {
   "cell_type": "code",
   "execution_count": null,
   "id": "2edd23ca-53ac-40ba-bf92-65ffac4bf3df",
   "metadata": {},
   "outputs": [],
   "source": [
    "dt_class_dot_data = tree.export_graphviz(dt_class_model, \n",
    "                                         feature_names=dt_class_model.feature_names_in_, \n",
    "                                         class_names=class_names,\n",
    "                                         filled=True, \n",
    "                                         rounded=True,  \n",
    "                                         special_characters=True,\n",
    "                                         out_file=None)\n",
    "dt_class_graph = graphviz.Source(dt_class_dot_data)\n",
    "dt_class_graph"
   ]
  },
  {
   "cell_type": "code",
   "execution_count": null,
   "id": "9177c199-d102-4412-9d98-6c33d263c7de",
   "metadata": {},
   "outputs": [],
   "source": [
    "try:\n",
    "    py_caret_class.plot_model(dt_class_model, plot='auc')\n",
    "except:\n",
    "    print(f\"  >> Could not plot 'AUC'.\")"
   ]
  },
  {
   "cell_type": "code",
   "execution_count": null,
   "id": "fe8d1497-cd14-49b6-8f3d-e41ed20443d7",
   "metadata": {},
   "outputs": [],
   "source": []
  },
  {
   "cell_type": "code",
   "execution_count": null,
   "id": "3c6b43e7-bc29-4f38-9033-9e364d5f1990",
   "metadata": {},
   "outputs": [],
   "source": [
    "ridge_class_model = py_caret_class.create_model(\"ridge\")"
   ]
  },
  {
   "cell_type": "code",
   "execution_count": null,
   "id": "3a43b765-cbbb-4415-85dc-9364afd1307a",
   "metadata": {},
   "outputs": [],
   "source": [
    "ridge_model_coef_dict = {x: y for x, y in zip(ridge_class_model.feature_names_in_, ridge_class_model.coef_[0])}\n",
    "ridge_model_coef_dict\n",
    "\n",
    "ridge_model_coef_df = \\\n",
    "    pd.DataFrame.from_dict(ridge_model_coef_dict, orient=\"index\")\\\n",
    "                .reset_index()\\\n",
    "                .rename({\"index\": \"feature\", 0: \"coefficient\"}, axis=1)\\\n",
    "                .sort_values([\"coefficient\"], ascending=False)\\\n",
    "                .reset_index(drop=True)\n",
    "\n",
    "ridge_model_coef_df"
   ]
  },
  {
   "cell_type": "code",
   "execution_count": null,
   "id": "e4c49583-1fc6-4c9d-b6db-31f974480452",
   "metadata": {},
   "outputs": [],
   "source": [
    "ridge_class_model.intercept_[0]"
   ]
  },
  {
   "cell_type": "code",
   "execution_count": null,
   "id": "d517b84d-b295-4ad2-bb2d-53521f24f94f",
   "metadata": {},
   "outputs": [],
   "source": []
  },
  {
   "cell_type": "code",
   "execution_count": null,
   "id": "ff3289a9-e1d4-4f9c-b711-dcb4a6b1408f",
   "metadata": {},
   "outputs": [],
   "source": [
    "lr_class_model = py_caret_class.create_model(\"lr\")"
   ]
  },
  {
   "cell_type": "code",
   "execution_count": null,
   "id": "f3609697-c480-4173-af4f-b3c812e6e619",
   "metadata": {},
   "outputs": [],
   "source": [
    "lr_model_coef_dict = {x: y for x, y in zip(lr_class_model.feature_names_in_, lr_class_model.coef_[0])}\n",
    "lr_model_coef_dict\n",
    "\n",
    "lr_model_coef_df = \\\n",
    "    pd.DataFrame.from_dict(lr_model_coef_dict, orient=\"index\")\\\n",
    "                .reset_index()\\\n",
    "                .rename({\"index\": \"feature\", 0: \"coefficient\"}, axis=1)\\\n",
    "                .sort_values([\"coefficient\"], ascending=False)\\\n",
    "                .reset_index(drop=True)\n",
    "\n",
    "lr_model_coef_df"
   ]
  },
  {
   "cell_type": "code",
   "execution_count": null,
   "id": "064bd7d3-5a22-48f5-a6f1-ca667e34b382",
   "metadata": {},
   "outputs": [],
   "source": [
    "lr_class_model.intercept_[0]"
   ]
  },
  {
   "cell_type": "code",
   "execution_count": null,
   "id": "bb062da3-cecc-444f-a6fd-58ca89c1a7c3",
   "metadata": {},
   "outputs": [],
   "source": []
  },
  {
   "cell_type": "code",
   "execution_count": null,
   "id": "0eb2919a-bdf4-46a4-bcc3-c355cea7f439",
   "metadata": {},
   "outputs": [],
   "source": []
  },
  {
   "cell_type": "code",
   "execution_count": null,
   "id": "41c8eacb-6b85-4f8a-b494-949b6f6038a6",
   "metadata": {},
   "outputs": [],
   "source": []
  },
  {
   "cell_type": "code",
   "execution_count": null,
   "id": "2e6cf358-0e4d-422f-9d3c-15b69e71e59b",
   "metadata": {},
   "outputs": [],
   "source": [
    "nb_class_model = py_caret_class.create_model(\"nb\")"
   ]
  },
  {
   "cell_type": "code",
   "execution_count": null,
   "id": "8bddf8be-3c39-42cc-8932-7f526015bd68",
   "metadata": {},
   "outputs": [],
   "source": [
    "nb_class_model.feature_names_in_"
   ]
  },
  {
   "cell_type": "code",
   "execution_count": null,
   "id": "55251e3a-ba22-4abf-b685-33f574d17236",
   "metadata": {},
   "outputs": [],
   "source": [
    "nb_class_model.class_count_"
   ]
  },
  {
   "cell_type": "code",
   "execution_count": null,
   "id": "0c198512-a2c3-4b3c-913e-0e044c81a2ca",
   "metadata": {},
   "outputs": [],
   "source": [
    "nb_class_model.class_prior_"
   ]
  },
  {
   "cell_type": "code",
   "execution_count": null,
   "id": "54ce1481-1c30-4efe-a8ab-1de6552cda02",
   "metadata": {},
   "outputs": [],
   "source": []
  },
  {
   "cell_type": "code",
   "execution_count": null,
   "id": "536e52c7-8c1a-49ed-8f8e-23d3c611066e",
   "metadata": {},
   "outputs": [],
   "source": []
  },
  {
   "cell_type": "code",
   "execution_count": null,
   "id": "f65e6272-397e-4cd2-b6cb-623d76c18ddd",
   "metadata": {},
   "outputs": [],
   "source": []
  },
  {
   "cell_type": "code",
   "execution_count": null,
   "id": "9b16760f-3324-45c9-abb1-da069f6cc535",
   "metadata": {},
   "outputs": [],
   "source": [
    "end_time = datetime.now()\n",
    "process_duration = end_time - start_time \n",
    "print(f\"Process ended @ {end_time}\")\n",
    "print(f\"process_duration {process_duration}\")"
   ]
  },
  {
   "cell_type": "code",
   "execution_count": null,
   "id": "ded808b5-c71b-444a-8d8f-20154146e3f5",
   "metadata": {},
   "outputs": [],
   "source": []
  },
  {
   "cell_type": "code",
   "execution_count": null,
   "id": "5a511146-b38d-4a8e-b6b5-9264f56b48e2",
   "metadata": {},
   "outputs": [],
   "source": []
  },
  {
   "cell_type": "code",
   "execution_count": null,
   "id": "046984bd-e2bc-42a6-a99e-6e03feabac8e",
   "metadata": {},
   "outputs": [],
   "source": []
  }
 ],
 "metadata": {
  "kernelspec": {
   "display_name": "Python (Outlier)",
   "language": "python",
   "name": "outlierenv"
  },
  "language_info": {
   "codemirror_mode": {
    "name": "ipython",
    "version": 3
   },
   "file_extension": ".py",
   "mimetype": "text/x-python",
   "name": "python",
   "nbconvert_exporter": "python",
   "pygments_lexer": "ipython3",
   "version": "3.9.19"
  }
 },
 "nbformat": 4,
 "nbformat_minor": 5
}
